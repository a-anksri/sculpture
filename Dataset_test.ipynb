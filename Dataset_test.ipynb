{
  "cells": [
    {
      "cell_type": "markdown",
      "metadata": {
        "id": "view-in-github",
        "colab_type": "text"
      },
      "source": [
        "<a href=\"https://colab.research.google.com/github/a-anksri/sculpture/blob/main/Dataset_test.ipynb\" target=\"_parent\"><img src=\"https://colab.research.google.com/assets/colab-badge.svg\" alt=\"Open In Colab\"/></a>"
      ]
    },
    {
      "cell_type": "markdown",
      "metadata": {
        "id": "ZbAY-W3IrxtH"
      },
      "source": [
        "# Code to Test if annotations are proper for later consolidation\n",
        "\n",
        "##Expectations:\n",
        "1. Annotations are saved in UTF-8 encoded csv files. You can download the gsheet, save as UTF-8 CSV and upload back in the same folder\n",
        "2. For any annotation sheet in a folder, the corresponding images are either in\n",
        "(i) An subfolder with the name \"images\"/\"Images\"/\"IMAGES\" (in that order of priority), or\n",
        "(ii) if no such sub-folder exists, in the same folder itself.\n",
        "3. The code will scan through all csv files in given root folder and its sub_folders. Multiple csv files in same folder are ok but please ensure that duplicate csv files are not kept otherwise the same image will get loaded twice.\n",
        "4. All images are in .jpg, .png or .jfif format. pl tell me if you expect any other format too\n",
        "4. We expect that the csv file will have a header row. If not, the first entry will get missed (We can change this later, but I guess this is a better option)\n",
        "5. You need not worry about blank entries or rows that do not relate to an image. Code will handle that\n",
        "6. Once you run the code on your folder, it will generate an final_annotation sheet and failed sheet. Pl check both. Failed sheet entries are entries in any csv file for which corresponding image file was not found.\n",
        "8. The code will merge all information entered in column 3 onwards. So any temple names etc entered in separate columns will get merged. \n",
        "9. The names of folders (from root_folder downwards) will also get added to caption. You may give informative names to your folders/sub_folders and the same will get added to all entries"
      ]
    },
    {
      "cell_type": "markdown",
      "metadata": {
        "id": "ncRS9tcyrpWr"
      },
      "source": [
        "## Imports etc. Do not Change"
      ]
    },
    {
      "cell_type": "code",
      "execution_count": null,
      "metadata": {
        "id": "EwUpxtzRmiHM"
      },
      "outputs": [],
      "source": [
        "import pandas as pd\n",
        "import os\n",
        "import numpy as np\n",
        "from PIL import Image\n",
        "from operator import add"
      ]
    },
    {
      "cell_type": "code",
      "execution_count": null,
      "metadata": {
        "id": "-UnY9Ok2mtKf"
      },
      "outputs": [],
      "source": [
        "from google.colab import drive"
      ]
    },
    {
      "cell_type": "code",
      "execution_count": null,
      "metadata": {
        "colab": {
          "base_uri": "https://localhost:8080/"
        },
        "id": "_tinEq8Lm1U4",
        "outputId": "30b564ed-df80-4e24-d5df-320841bcc52e"
      },
      "outputs": [
        {
          "output_type": "stream",
          "name": "stdout",
          "text": [
            "Mounted at /content/drive\n"
          ]
        }
      ],
      "source": [
        "drive.mount('/content/drive', force_remount = True)"
      ]
    },
    {
      "cell_type": "code",
      "execution_count": null,
      "metadata": {
        "id": "la01fVp18q5y"
      },
      "outputs": [],
      "source": [
        "from google.colab import auth\n",
        "import gspread\n",
        "from google.auth import default\n",
        "#autenticating to google\n",
        "auth.authenticate_user()\n",
        "creds, _ = default()\n",
        "gc = gspread.authorize(creds)"
      ]
    },
    {
      "cell_type": "markdown",
      "metadata": {
        "id": "qhFYVY4jqCWw"
      },
      "source": [
        "## Enter the folders you want to use. If it is a shared folder, Please add a shortcut to your mydrive so that colab can access"
      ]
    },
    {
      "cell_type": "code",
      "execution_count": null,
      "metadata": {
        "id": "B8_L4LfIqB2a"
      },
      "outputs": [],
      "source": [
        "#Root folder you want to test. It will recursively look at all sub-folders too\n",
        "root_folder = '/content/drive/MyDrive/Nepal'\n",
        "\n",
        "#Folder where you want to save the final annotation sheet and failed sheet\n",
        "destination_folder = '/content/drive/MyDrive/Nepal'"
      ]
    },
    {
      "cell_type": "markdown",
      "metadata": {
        "id": "W0lLuWnYopl0"
      },
      "source": []
    },
    {
      "cell_type": "markdown",
      "metadata": {
        "id": "QK_b-dDYvCoL"
      },
      "source": [
        "## Run all subsequent cells"
      ]
    },
    {
      "cell_type": "code",
      "execution_count": null,
      "metadata": {
        "id": "1W6Gsz-27XvU"
      },
      "outputs": [],
      "source": [
        "#Global Variables:\n",
        "column_names = ['file_name', 'web_address', 'caption']\n",
        "\n",
        "#To collect all failed entries\n",
        "failed = []"
      ]
    },
    {
      "cell_type": "code",
      "execution_count": null,
      "metadata": {
        "id": "tAMgJuwRVkJW"
      },
      "outputs": [],
      "source": [
        "class Annotation:\n",
        "  def __init__(self):\n",
        "    self.id = 0\n",
        "    self.final_annotations = pd.DataFrame(columns = column_names)\n",
        "\n",
        "  def get_id(self):\n",
        "    x = self.id\n",
        "    self.id += 1\n",
        "    return x\n",
        "  \n",
        "  def read_id(self):\n",
        "    return id\n",
        "  \n",
        "  def reset_id(self, id = 0):\n",
        "    self.id = id\n",
        "\n",
        "  def append_annotations(self, df):\n",
        "    \n",
        "    self.final_annotations = self.final_annotations.append(df, ignore_index = True)\n",
        "    \n",
        "\n",
        "  def fetch_row(self, i):\n",
        "    return self.final_annotations.iloc[i]\n",
        "\n",
        "  def save(self):\n",
        "    path = os.path.join(destination_folder,'final_annotation.csv')\n",
        "    self.final_annotations.to_csv(path, columns = column_names)"
      ]
    },
    {
      "cell_type": "markdown",
      "metadata": {
        "id": "jI60b2G0sYSA"
      },
      "source": [
        "Experiments in Progress form here"
      ]
    },
    {
      "cell_type": "code",
      "execution_count": null,
      "metadata": {
        "id": "ZW9WYLxEAwFb"
      },
      "outputs": [],
      "source": [
        "\n",
        "def gsheet_crawl(path, annot, name = '', test = False):\n",
        "  ret = False\n",
        "  #recursively crawl all subfolders\n",
        "  dirs = os.listdir(path)\n",
        "  for dir in dirs:\n",
        "      \n",
        "      pth = os.path.join(path, dir)\n",
        "      new_name = name + ' ' + dir\n",
        "      if(os.path.isdir(pth)):\n",
        "        r = gsheet_crawl(pth, annot, new_name, test)\n",
        "        ret = r or ret\n",
        "  \n",
        "  \n",
        "  #delete this if you want to search in parent folders too\n",
        "  if(ret):\n",
        "    return(True)\n",
        "  \n",
        "  print(\"working on \" + path)\n",
        "  files = os.listdir(path)\n",
        "  failed_num = 0\n",
        "  count = 0\n",
        "\n",
        "  if(test):\n",
        "    print(files)\n",
        "  \n",
        "  rett = False\n",
        "  #look for csv files in the current folder\n",
        "  for file in files:\n",
        "    if(file.endswith('.gsheet')):\n",
        "      rett = True\n",
        "      tmp = os.path.join(path, file[:-7])\n",
        "      worksheet = gc.open(file[:-7]).sheet1\n",
        "      #get_all_values gives a list of rows\n",
        "      rows = worksheet.get_all_values()\n",
        "      #Convert to a DataFrame \n",
        "      annotations = pd.DataFrame(rows)\n",
        "      #annotations.columns = annotations.iloc[0]\n",
        "      #annotations = annotations.iloc[1:].astype('str')\n",
        "      print(\"found gheet \" + tmp)\n",
        "      ret = True\n",
        "    else:\n",
        "      continue\n",
        "\n",
        "\n",
        "    #For all csv files found, do the following\n",
        "    \n",
        "    #check if an images sub-folder exists. If so, set the same as the image_path, else presume that images are in the same folder\n",
        "    tmp1 = os.path.join(path, 'images')\n",
        "    tmp2 = os.path.join(path, 'Images')\n",
        "    tmp3 = os.path.join(path, 'IMAGES')\n",
        "\n",
        "    if ('images' in files) and (os.path.isdir(tmp1)):\n",
        "      image_path = tmp1\n",
        "    elif (\"Images in files\") and (os.path.isdir(tmp2)):\n",
        "      image_path = tmp2\n",
        "    elif (\"IMAGES in files\") and (os.path.isdir(tmp3)):\n",
        "      image_path = tmp3\n",
        "    else:\n",
        "      image_path = path\n",
        "\n",
        "\n",
        "\n",
        "\n",
        "    # Merge caption and other info fields\n",
        "    annotations['final_caption'] = str(name)\n",
        "    num_columns = len(annotations.columns.values)\n",
        "    if (num_columns < 4):\n",
        "      print('wrongly formatted annotation sheet. Less than 3 columns')\n",
        "    else:\n",
        "      for col in annotations.columns.values[2:-1]:\n",
        "        annotations = annotations.fillna(value = {col:' '})\n",
        "        annotations['final_caption'] = annotations['final_caption'].astype(str) + ' ' + annotations[col].astype(str)\n",
        "    \n",
        "\n",
        "\n",
        "    #Take only three columns and drop any entry for which any of the three columns is Na/NaN\n",
        "    annotations = annotations.loc[:,[annotations.columns.values[0], annotations.columns.values[1], 'final_caption']]\n",
        "    annotations = annotations.replace('', np.nan)\n",
        "    annotations = annotations.dropna()\n",
        "\n",
        "\n",
        "    #Iterate over rows of annotations \n",
        "    names = []\n",
        "    web_adds = []\n",
        "    captions = []\n",
        "    column_name = annotations.columns.values\n",
        "    \n",
        "    for i, row in enumerate(annotations.iterrows()):\n",
        "      data = row[1]\n",
        "      \n",
        "      file_name = data[column_name[0]].strip()\n",
        "      web_add = data[column_name[1]]\n",
        "      caption = data[column_name[2]]\n",
        "      if(test):\n",
        "        pass\n",
        "        #print(file_name)\n",
        "      #Check if corresponding image file exists in image path\n",
        "      file_path1 = os.path.join(image_path, file_name+'.jpg')\n",
        "      file_path2 = os.path.join(image_path, file_name+'.png')\n",
        "      file_path3 = os.path.join(image_path, file_name)\n",
        "      file_path4 = os.path.join(image_path, file_name+'.JPG')\n",
        "      file_path5 = os.path.join(image_path, file_name+'.PNG')\n",
        "      file_path6 = os.path.join(image_path, file_name+'.jpeg')\n",
        "      file_path7 = os.path.join(image_path, file_name+'.JPEG')\n",
        "      if (os.path.exists(file_path3) and os.path.isfile(file_path3)):\n",
        "        #and (file_name.endswith('.jpg') or file_name.endswith('.png') or file_name.endswith('.jfif') or file_name.endswith('.PNG') or file_name.endswith('.JPG') or file_name.endswith('.jpeg') or file_name.endswith('.JPEG'))):\n",
        "        file_path = file_path3\n",
        "      elif (os.path.exists(file_path1) and os.path.isfile(file_path1)):\n",
        "        file_path = file_path1\n",
        "      elif (os.path.exists(file_path2) and os.path.isfile(file_path2)):\n",
        "        file_path = file_path2\n",
        "      elif (os.path.exists(file_path4) and os.path.isfile(file_path4)):\n",
        "        file_path = file_path4\n",
        "      elif (os.path.exists(file_path5) and os.path.isfile(file_path5)):\n",
        "        file_path = file_path5\n",
        "      elif (os.path.exists(file_path6) and os.path.isfile(file_path6)):\n",
        "        file_path = file_path6\n",
        "      elif (os.path.exists(file_path7) and os.path.isfile(file_path7)):\n",
        "        file_path = file_path7\n",
        "      else:\n",
        "        if(test):\n",
        "          print(file_name)\n",
        "\n",
        "        if(file_name.lower().endswith('name')) or (file_name.lower().endswith('names')):\n",
        "          pass\n",
        "        else:\n",
        "          failed_num += 1\n",
        "          failed.append({\"path\":tmp, \"Sl No\":i, \"file_name\":file_name})\n",
        "        \n",
        "        continue\n",
        "      \n",
        "      #img = Image.open(file_path)\n",
        "      file_add = 'I{}.png'.format(annot.get_id())\n",
        "      #add = os.path.join(destination_folder, 'images', file_add)\n",
        "      \n",
        "\n",
        "      #Add found entries to dataframe\n",
        "      #img.save(add)\n",
        "      names.append(file_add)\n",
        "      web_adds.append(web_add)\n",
        "      captions.append(caption)\n",
        "      count += 1\n",
        "    \n",
        "    df = pd.DataFrame({'file_name':names,'web_address':web_adds,'caption':captions})\n",
        "    annot.append_annotations(df)\n",
        "  \n",
        "  if(not rett):\n",
        "    print(\"no gsheet found\")\n",
        "    return(ret)\n",
        "\n",
        "  print(\"Total Successful Count =  {}\".format(count) )\n",
        "  global total_success\n",
        "  global total_failed\n",
        "  total_success += count\n",
        "  total_failed += failed_num\n",
        "  print(\"Failed = {}\".format(failed_num))\n",
        "  folder_wise.append({\"Folder\":name, \"Success\":count, \"Failed\":failed_num})\n",
        "  return(ret)"
      ]
    },
    {
      "cell_type": "code",
      "execution_count": null,
      "metadata": {
        "colab": {
          "base_uri": "https://localhost:8080/"
        },
        "id": "jM-AwlbTwF4Q",
        "outputId": "0a9930c2-d636-45ed-d6b9-7c970a7d3a72"
      },
      "outputs": [
        {
          "output_type": "stream",
          "name": "stdout",
          "text": [
            "working on /content/drive/MyDrive/Nepal/Images\n",
            "no gsheet found\n",
            "working on /content/drive/MyDrive/Nepal\n",
            "found gheet /content/drive/MyDrive/Nepal/Data Collection_Nepal\n",
            "Total Successful Count =  1690\n",
            "Failed = 84\n",
            "1690 84\n"
          ]
        }
      ],
      "source": [
        "# driver code\n",
        "\n",
        "failed = []\n",
        "folder_wise = []\n",
        "total_success = 0\n",
        "total_failed = 0\n",
        "\n",
        "dir = root_folder\n",
        "\n",
        "annot = Annotation()\n",
        "\n",
        "gsheet_crawl(dir, annot, test = False) \n",
        "\n",
        "paths = []\n",
        "sl_nos = []\n",
        "names = []\n",
        "\n",
        "#collecting failed entries\n",
        "for entry in failed:\n",
        "  paths.append(entry[\"path\"])\n",
        "  sl_nos.append(entry[\"Sl No\"])\n",
        "  names.append(entry[\"file_name\"])\n",
        "\n",
        "folders = []\n",
        "suc = []\n",
        "fail = []\n",
        "for entry in folder_wise:\n",
        "  folders.append(entry[\"Folder\"])\n",
        "  suc.append(entry[\"Success\"])\n",
        "  fail.append(entry[\"Failed\"])\n",
        "\n",
        "failed_sheet = pd.DataFrame({\"path\": paths, \"Sl_No\": sl_nos, \"file_name\": names})\n",
        "path = os.path.join(destination_folder,'failed_sheet.csv')\n",
        "failed_sheet.to_csv(path)\n",
        "\n",
        "folder_wise_sheet = pd.DataFrame({\"Folder\": folders, \"success\": suc, \"failed\": fail, \"Total\": list(map(add, suc, fail))})\n",
        "path = os.path.join(destination_folder,'folder_wise_sheet.csv')\n",
        "folder_wise_sheet.to_csv(path)\n",
        "\n",
        "\n",
        "annot.save()\n",
        "\n",
        "print(total_success, total_failed)"
      ]
    },
    {
      "cell_type": "markdown",
      "metadata": {
        "id": "TKy7maPcep5A"
      },
      "source": [
        "## Fallback code"
      ]
    },
    {
      "cell_type": "code",
      "execution_count": null,
      "metadata": {
        "colab": {
          "base_uri": "https://localhost:8080/"
        },
        "id": "zzgRUQfj6joX",
        "outputId": "3a5ceef5-7198-44ee-e85e-bf6969e25124"
      },
      "outputs": [
        {
          "name": "stdout",
          "output_type": "stream",
          "text": [
            "7426 2086\n"
          ]
        }
      ],
      "source": [
        "path = os.path.join(destination_folder,'failed_sheet.csv')\n",
        "failed_sheet.to_csv(path)\n",
        "\n",
        "folder_wise_sheet = pd.DataFrame({\"Folder\": folders, \"success\": suc, \"failed\": fail, \"Total\": list(map(add, suc, fail))})\n",
        "path = os.path.join(destination_folder,'folder_wise_sheet.csv')\n",
        "folder_wise_sheet.to_csv(path)\n",
        "\n",
        "\n",
        "annot.save()\n",
        "\n",
        "print(total_success, total_failed)"
      ]
    },
    {
      "cell_type": "code",
      "execution_count": null,
      "metadata": {
        "id": "43qXW1hLpZxX"
      },
      "outputs": [],
      "source": []
    },
    {
      "cell_type": "code",
      "execution_count": null,
      "metadata": {
        "id": "aNoO2g6ygtX_"
      },
      "outputs": [],
      "source": [
        "def crawl(path, annot, name = ''):\n",
        "  \n",
        "  #recursively crawl all subfolders\n",
        "  dirs = os.listdir(path)\n",
        "  for dir in dirs:\n",
        "      pth = os.path.join(path, dir)\n",
        "      new_name = name + ' ' + dir\n",
        "      if(os.path.isdir(pth)):\n",
        "        crawl(pth, annot, new_name)\n",
        "  \n",
        "  \n",
        "  print(\"working on \" + path)\n",
        "  files = os.listdir(path)\n",
        "  failed_num = 0\n",
        "  count = 0\n",
        "\n",
        "  #look for csv files in the current folder\n",
        "  for file in files:\n",
        "    if(file.endswith('.csv')):\n",
        "      tmp = os.path.join(path, file)\n",
        "      annotations = pd.read_csv(tmp)\n",
        "      print(\"found csv file \" + tmp)\n",
        "    else:\n",
        "      continue\n",
        "\n",
        "\n",
        "    #For all csv files found, do the following\n",
        "    \n",
        "    #check if an images sub-folder exists. If so, set the same as the image_path, else presume that images are in the same folder\n",
        "    tmp1 = os.path.join(path, 'images')\n",
        "    tmp2 = os.path.join(path, 'Images')\n",
        "    tmp3 = os.path.join(path, 'IMAGES')\n",
        "\n",
        "    if ('images' in files) and (os.path.isdir(tmp1)):\n",
        "      image_path = tmp1\n",
        "    elif (\"Images in files\") and (os.path.isdir(tmp2)):\n",
        "      image_path = tmp2\n",
        "    elif (\"IMAGES in files\") and (os.path.isdir(tmp3)):\n",
        "      image_path = tmp3\n",
        "    else:\n",
        "      image_path = path\n",
        "\n",
        "\n",
        "\n",
        "\n",
        "    # Merge caption and other info fields\n",
        "    annotations['final_caption'] = name\n",
        "    num_columns = len(annotations.columns.values)\n",
        "    if (num_columns < 4):\n",
        "      print('wrongly formatted annotation sheet. Less than 3 columns')\n",
        "    else:\n",
        "      for col in annotations.columns.values[2:-1]:\n",
        "        annotations = annotations.fillna(value = {col:' '})\n",
        "        annotations['final_caption'] = annotations['final_caption'] + ' ' + annotations[col]\n",
        "    \n",
        "\n",
        "\n",
        "    #Take only three columns and drop any entry for which any of the three columns is Na/NaN\n",
        "    annotations = annotations.loc[:,[annotations.columns.values[0], annotations.columns.values[1], 'final_caption']]\n",
        "    annotations = annotations.dropna()\n",
        "\n",
        "\n",
        "    #Iterate over rows of annotations \n",
        "    names = []\n",
        "    web_adds = []\n",
        "    captions = []\n",
        "    column_name = annotations.columns.values\n",
        "    \n",
        "    for i, row in enumerate(annotations.iterrows()):\n",
        "      data = row[1]\n",
        "      \n",
        "      file_name = data[column_name[0]]\n",
        "      web_add = data[column_name[1]]\n",
        "      caption = data[column_name[2]]\n",
        "\n",
        "\n",
        "      #Check if corresponding image file exists in image path\n",
        "      file_path1 = os.path.join(image_path, file_name+'.jpg')\n",
        "      file_path2 = os.path.join(image_path, file_name+'.png')\n",
        "      file_path3 = os.path.join(image_path, file_name)\n",
        "      if (os.path.exists(file_path3) and (os.path.isfile(file_path3)) and (file_name.endswith('.jpg') or file_name.endswith('.png') or file_name.endswith('.jfif') or file_name.endswith('.PNG') or file_name.endswith('.JPG') or file_name.endswith('.jpeg') or file_name.endswith('.JPEG'))):\n",
        "        file_path = file_path3\n",
        "      elif (os.path.exists(file_path1) and os.path.isfile(file_path1)):\n",
        "        file_path = file_path1\n",
        "      elif (os.path.exists(file_path2) and os.path.isfile(file_path2)):\n",
        "        file_path = file_path2\n",
        "      else:\n",
        "        failed_num += 1\n",
        "        failed.append({\"path\":tmp, \"Sl No\":i, \"file_name\":file_name})\n",
        "        continue\n",
        "      \n",
        "      #img = Image.open(file_path)\n",
        "      file_add = 'I{}.png'.format(annot.get_id())\n",
        "      #add = os.path.join(destination_folder, 'images', file_add)\n",
        "      \n",
        "\n",
        "      #Add found entries to dataframe\n",
        "      #img.save(add)\n",
        "      names.append(file_add)\n",
        "      web_adds.append(web_add)\n",
        "      captions.append(caption)\n",
        "      count += 1\n",
        "    \n",
        "    df = pd.DataFrame({'file_name':names,'web_address':web_adds,'caption':captions})\n",
        "    annot.append_annotations(df)\n",
        "  \n",
        "  print(\"Total Successful Count =  {}\".format(count) )\n",
        "  global total_success\n",
        "  global total_failed\n",
        "  total_success += count\n",
        "  total_failed += failed_num\n",
        "  print(\"Failed = {}\".format(failed_num))"
      ]
    },
    {
      "cell_type": "code",
      "execution_count": null,
      "metadata": {
        "id": "4aPajitmsX19"
      },
      "outputs": [],
      "source": [
        "# driver code\n",
        "dir = root_folder\n",
        "\n",
        "annot = Annotation()\n",
        "\n",
        "gsheet_crawl(dir, annot) \n",
        "\n",
        "paths = []\n",
        "sl_nos = []\n",
        "names = []\n",
        "\n",
        "#collecting failed entries\n",
        "for entry in failed:\n",
        "  paths.append(entry[\"path\"])\n",
        "  sl_nos.append(entry[\"Sl No\"])\n",
        "  names.append(entry[\"file_name\"])\n",
        "\n",
        "failed_sheet = pd.DataFrame({\"path\": paths, \"Sl_No\": sl_nos, \"file_name\": names})\n",
        "path = os.path.join(destination_folder,'failed_sheet.csv')\n",
        "failed_sheet.to_csv(path)\n",
        "\n",
        "\n",
        "annot.save()\n",
        "\n",
        "print(total_success, total_failed)"
      ]
    }
  ],
  "metadata": {
    "colab": {
      "provenance": [],
      "include_colab_link": true
    },
    "kernelspec": {
      "display_name": "Python 3",
      "name": "python3"
    },
    "language_info": {
      "name": "python"
    }
  },
  "nbformat": 4,
  "nbformat_minor": 0
}