{
 "cells": [
  {
   "cell_type": "code",
   "execution_count": 1,
   "metadata": {},
   "outputs": [],
   "source": [
    "import numpy as np\n",
    "import pandas as pd\n",
    "import cv2 as cv"
   ]
  },
  {
   "cell_type": "code",
   "execution_count": 2,
   "metadata": {},
   "outputs": [],
   "source": [
    "landmarks = [\"Root\", \"Forehead\", \"Left Eye\", \"Left Ear\", \"Left Shoulder\", \"Left Waist\", \"Right Eye\", \"Right Ear\", \"Right Shoulder\", \"Right Waist\", \"Nose\", \"Left Elbow\", \"Left Knee\", \"Right Elbow\", \"Right Knee\", \"Left Wrist\", \"Left Foot\", \"Right Wrist\", \"Right Foot\"]\n",
    "limbs = {\"Root\":[1], \"Forehead\":[10,2,3,6,7,4,5,8,9], \"Left Shoulder\":[11], \"Left Elbow\": [15], \"Left Waist\":[12], \"Left Knee\": [16], \"Right Shoulder\":[13], \"Right Elbow\": [17], \"Right Waist\":[14], \"Right Knee\": [18]}\n",
    "possible_duplicates = [1,11,12,13,14]"
   ]
  },
  
  
  
  
  {
   "cell_type": "code",
   "execution_count": 18,
   "metadata": {},
   "outputs": [],
   "source": [
    "def handler(event, x, y, flags, params):\n",
    "    if(event == cv.EVENT_LBUTTONUP):\n",
    "        num = gui.check_within(x,y)\n",
    "        if num > -1:\n",
    "            gui.set_current_element(num)\n",
    "        \n",
    "        else:\n",
    "            num = gui.check_image_controls(x,y)\n",
    "            if (num == -1):\n",
    "                return(-1)\n",
    "            gui.image_position(num)\n",
    "        "
   ]
  },
  {
   "cell_type": "code",
   "execution_count": 19,
   "metadata": {},
   "outputs": [
    {
     "name": "stdout",
     "output_type": "stream",
     "text": [
      "0\n"
     ]
    }
   ],
   "source": [
    "\n",
    "gui = Gui()\n",
    "chain = Chain(landmarks, limbs, possible_duplicates)\n",
    "root = chain.get_root()\n",
    "link = root.children[0]\n",
    "#link = link.children[5]\n",
    "gui.add_message(\"hi\", \"there\")\n",
    "gui.add_elements(link)\n",
    "gui.set_current_element(0)\n",
    "img = cv.imread('noc.png')\n",
    "gui.add_image(img)\n",
    "gui.add_image_controls()\n",
    "\n",
    "\n",
    "\n"
   ]
  },
  {
   "cell_type": "code",
   "execution_count": 21,
   "metadata": {},
   "outputs": [
    {
     "name": "stdout",
     "output_type": "stream",
     "text": [
      "0\n",
      "1\n",
      "4\n"
     ]
    }
   ],
   "source": [
    "cv.namedWindow(\"View\")\n",
    "cv.setMouseCallback(\"View\", handler)\n",
    "\n",
    "while(True):\n",
    "    window = gui.compose()\n",
    "    cv.imshow(\"View\", window)\n",
    "    a = cv.waitKey(20)\n",
    "    \n",
    "    if (a == ord('q')):\n",
    "        \n",
    "        break\n",
    "cv.destroyAllWindows()"
   ]
  },
  {
   "cell_type": "code",
   "execution_count": 28,
   "metadata": {},
   "outputs": [
    {
     "data": {
      "text/plain": [
       "<matplotlib.image.AxesImage at 0x1d111a01af0>"
      ]
     },
     "execution_count": 28,
     "metadata": {},
     "output_type": "execute_result"
    },
    {
     "data": {
      "image/png": "[encoded data removed]",
      "text/plain": [
       "<Figure size 432x288 with 1 Axes>"
      ]
     },
     "metadata": {
      "needs_background": "light"
     },
     "output_type": "display_data"
    }
   ],
   "source": [
    "import matplotlib.pyplot as plt\n",
    "plt.imshow(win)"
   ]
  },
  {
   "cell_type": "code",
   "execution_count": 16,
   "metadata": {},
   "outputs": [],
   "source": [
    "cv.destroyAllWindows()"
   ]
  },
  {
   "cell_type": "code",
   "execution_count": null,
   "metadata": {},
   "outputs": [],
   "source": []
  }
 ],
 "metadata": {
  "kernelspec": {
   "display_name": "Python 3",
   "language": "python",
   "name": "python3"
  },
  "language_info": {
   "codemirror_mode": {
    "name": "ipython",
    "version": 3
   },
   "file_extension": ".py",
   "mimetype": "text/x-python",
   "name": "python",
   "nbconvert_exporter": "python",
   "pygments_lexer": "ipython3",
   "version": "3.8.5"
  }
 },
 "nbformat": 4,
 "nbformat_minor": 4
}
